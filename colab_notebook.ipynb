{
  "nbformat": 4,
  "nbformat_minor": 0,
  "metadata": {
    "colab": {
      "name": "Untitled1.ipynb",
      "version": "0.3.2",
      "provenance": [],
      "include_colab_link": true
    },
    "kernelspec": {
      "name": "python3",
      "display_name": "Python 3"
    }
  },
  "cells": [
    {
      "cell_type": "markdown",
      "metadata": {
        "id": "view-in-github",
        "colab_type": "text"
      },
      "source": [
        "<a href=\"https://colab.research.google.com/github/VinACE/Image_Segmentation/blob/master/colab_notebook.ipynb\" target=\"_parent\"><img src=\"https://colab.research.google.com/assets/colab-badge.svg\" alt=\"Open In Colab\"/></a>"
      ]
    },
    {
      "cell_type": "code",
      "metadata": {
        "id": "N1tzMSGcTOKf",
        "colab_type": "code",
        "colab": {
          "base_uri": "https://localhost:8080/",
          "height": 35
        },
        "outputId": "e9f516e8-d869-46fe-e7ed-eafcbd8af391"
      },
      "source": [
        "!git clone https://github.com/VinACE/PANet.git"
      ],
      "execution_count": 2,
      "outputs": [
        {
          "output_type": "stream",
          "text": [
            "fatal: destination path 'PANet' already exists and is not an empty directory.\n"
          ],
          "name": "stdout"
        }
      ]
    },
    {
      "cell_type": "code",
      "metadata": {
        "id": "Mydd6g61TlKh",
        "colab_type": "code",
        "colab": {
          "base_uri": "https://localhost:8080/",
          "height": 235
        },
        "outputId": "433602c0-0df7-4cc4-c81e-3ac6fb2c0efc"
      },
      "source": [
        "!cd /content/PANet/tools\n",
        "!python3 /content/Image_Segmentation/main.py"
      ],
      "execution_count": 12,
      "outputs": [
        {
          "output_type": "stream",
          "text": [
            "Namespace(augmentation_prob=0.036367172680771095, batch_size=1, beta1=0.5, beta2=0.999, cuda_idx=1, image_size=224, img_ch=3, log_step=2, lr=0.00026733183169222176, mode='train', model_path='./models', model_type='U_Net', num_epochs=100, num_epochs_decay=77, num_workers=8, output_ch=1, result_path='./result/U_Net', t=3, test_path='./dataset/test/', train_path='./dataset/train/', val_step=2, valid_path='./dataset/valid/')\n",
            "Traceback (most recent call last):\n",
            "  File \"/content/Image_Segmentation/main.py\", line 101, in <module>\n",
            "    main(config)\n",
            "  File \"/content/Image_Segmentation/main.py\", line 42, in main\n",
            "    augmentation_prob=config.augmentation_prob)\n",
            "  File \"/content/Image_Segmentation/data_loader.py\", line 100, in get_loader\n",
            "    dataset = ImageFolder(root = image_path, image_size =image_size, mode=mode,augmentation_prob=augmentation_prob)\n",
            "  File \"/content/Image_Segmentation/data_loader.py\", line 18, in __init__\n",
            "    self.image_paths = list(map(lambda x: os.path.join(root, x), os.listdir(root)))\n",
            "FileNotFoundError: [Errno 2] No such file or directory: './dataset/train/'\n"
          ],
          "name": "stdout"
        }
      ]
    },
    {
      "cell_type": "markdown",
      "metadata": {
        "id": "qedEGgbrTPHw",
        "colab_type": "text"
      },
      "source": [
        ""
      ]
    },
    {
      "cell_type": "code",
      "metadata": {
        "id": "azqh-n9dUlQw",
        "colab_type": "code",
        "colab": {
          "base_uri": "https://localhost:8080/",
          "height": 316
        },
        "outputId": "d7d0982c-cd1c-4938-ff1d-83eaafdd2408"
      },
      "source": [
        "from torch.utils.data.dataloader import numpy_type_map"
      ],
      "execution_count": 10,
      "outputs": [
        {
          "output_type": "error",
          "ename": "ImportError",
          "evalue": "ignored",
          "traceback": [
            "\u001b[0;31m---------------------------------------------------------------------------\u001b[0m",
            "\u001b[0;31mImportError\u001b[0m                               Traceback (most recent call last)",
            "\u001b[0;32m<ipython-input-10-07bc8e0d68bf>\u001b[0m in \u001b[0;36m<module>\u001b[0;34m()\u001b[0m\n\u001b[0;32m----> 1\u001b[0;31m \u001b[0;32mfrom\u001b[0m \u001b[0mtorch\u001b[0m\u001b[0;34m.\u001b[0m\u001b[0mutils\u001b[0m\u001b[0;34m.\u001b[0m\u001b[0mdata\u001b[0m\u001b[0;34m.\u001b[0m\u001b[0mdataloader\u001b[0m \u001b[0;32mimport\u001b[0m \u001b[0mnumpy_type_map\u001b[0m\u001b[0;34m\u001b[0m\u001b[0;34m\u001b[0m\u001b[0m\n\u001b[0m",
            "\u001b[0;31mImportError\u001b[0m: cannot import name 'numpy_type_map'",
            "",
            "\u001b[0;31m---------------------------------------------------------------------------\u001b[0;32m\nNOTE: If your import is failing due to a missing package, you can\nmanually install dependencies using either !pip or !apt.\n\nTo view examples of installing some common dependencies, click the\n\"Open Examples\" button below.\n\u001b[0;31m---------------------------------------------------------------------------\u001b[0m\n"
          ]
        }
      ]
    },
    {
      "cell_type": "code",
      "metadata": {
        "id": "-lykir0uUmhq",
        "colab_type": "code",
        "colab": {
          "base_uri": "https://localhost:8080/",
          "height": 89
        },
        "outputId": "4334d6b9-1df8-46aa-abe7-a0ba1c4aba20"
      },
      "source": [
        "!git clone https://github.com/VinACE/Image_Segmentation.git"
      ],
      "execution_count": 11,
      "outputs": [
        {
          "output_type": "stream",
          "text": [
            "Cloning into 'Image_Segmentation'...\n",
            "remote: Enumerating objects: 51, done.\u001b[K\n",
            "Unpacking objects:   1% (1/51)   \rUnpacking objects:   3% (2/51)   \rUnpacking objects:   5% (3/51)   \rUnpacking objects:   7% (4/51)   \rUnpacking objects:   9% (5/51)   \rUnpacking objects:  11% (6/51)   \rUnpacking objects:  13% (7/51)   \rUnpacking objects:  15% (8/51)   \rUnpacking objects:  17% (9/51)   \rUnpacking objects:  19% (10/51)   \rUnpacking objects:  21% (11/51)   \rUnpacking objects:  23% (12/51)   \rUnpacking objects:  25% (13/51)   \rUnpacking objects:  27% (14/51)   \rUnpacking objects:  29% (15/51)   \rUnpacking objects:  31% (16/51)   \rUnpacking objects:  33% (17/51)   \rUnpacking objects:  35% (18/51)   \rUnpacking objects:  37% (19/51)   \rUnpacking objects:  39% (20/51)   \rremote: Total 51 (delta 0), reused 0 (delta 0), pack-reused 51\u001b[K\n",
            "Unpacking objects:  41% (21/51)   \rUnpacking objects:  43% (22/51)   \rUnpacking objects:  45% (23/51)   \rUnpacking objects:  47% (24/51)   \rUnpacking objects:  49% (25/51)   \rUnpacking objects:  50% (26/51)   \rUnpacking objects:  52% (27/51)   \rUnpacking objects:  54% (28/51)   \rUnpacking objects:  56% (29/51)   \rUnpacking objects:  58% (30/51)   \rUnpacking objects:  60% (31/51)   \rUnpacking objects:  62% (32/51)   \rUnpacking objects:  64% (33/51)   \rUnpacking objects:  66% (34/51)   \rUnpacking objects:  68% (35/51)   \rUnpacking objects:  70% (36/51)   \rUnpacking objects:  72% (37/51)   \rUnpacking objects:  74% (38/51)   \rUnpacking objects:  76% (39/51)   \rUnpacking objects:  78% (40/51)   \rUnpacking objects:  80% (41/51)   \rUnpacking objects:  82% (42/51)   \rUnpacking objects:  84% (43/51)   \rUnpacking objects:  86% (44/51)   \rUnpacking objects:  88% (45/51)   \rUnpacking objects:  90% (46/51)   \rUnpacking objects:  92% (47/51)   \rUnpacking objects:  94% (48/51)   \rUnpacking objects:  96% (49/51)   \rUnpacking objects:  98% (50/51)   \rUnpacking objects: 100% (51/51)   \rUnpacking objects: 100% (51/51), done.\n"
          ],
          "name": "stdout"
        }
      ]
    },
    {
      "cell_type": "code",
      "metadata": {
        "id": "LwEHsm9RWKMq",
        "colab_type": "code",
        "colab": {}
      },
      "source": [
        ""
      ],
      "execution_count": 0,
      "outputs": []
    }
  ]
}